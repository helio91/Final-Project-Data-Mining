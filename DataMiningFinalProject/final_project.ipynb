{
 "cells": [
  {
   "cell_type": "markdown",
   "metadata": {},
   "source": [
    "<h1>Team Carbon: Final Project</h1>"
   ]
  },
  {
   "cell_type": "markdown",
   "metadata": {},
   "source": [
    "By: Pierce Fleming\n",
    "Class: (CPSC 310, Spring 2019) at Gonzaga University\n",
    "Description: Using diamond attribute dataset to classify diamonds by price  \n",
    "Will be using: kNN, tensorflow estimator, tdidt, and kNN ensemble\n",
    "\n",
    "Sources to cite: https://www.tensorflow.org/guide/datasets_for_estimators, https://nbviewer.jupyter.org/gist/yufengg/a6dff912ab48f7a273f5704ad9ab1311"
   ]
  },
  {
   "cell_type": "markdown",
   "metadata": {},
   "source": [
    "# Introduction\n",
    "\n",
    "### The Dataset\n",
    "Dataset contains data from 53,941 diamonds, with 9 different attributes\n",
    "\n",
    "I decided to make 3 different classifiers to classify on price\n",
    "\n",
    "The classifiers I chose were: kNN, kNN ensemble, TDIDT, and tensorflow linear evaluator\n",
    "\n",
    "Out of these classifiers, the standalone kNN classifier had the best overall performance"
   ]
  },
  {
   "cell_type": "markdown",
   "metadata": {},
   "source": [
    "# Data Analysis:\n",
    "### a. The Dataset\n",
    "Dataset contains data from 53,941 diamonds  \n",
    "\n",
    "Attributes:  \n",
    "Index counter: Index of current record  \n",
    "carat: weight of the diamond (0.2--5.01)  \n",
    "cut: quality of the cut (Fair, Good, Very Good, Premium, Ideal)  \n",
    "color: diamond color, from J (worst) to D (best)  \n",
    "clarity: a measurement of how clear the diamond is (I1 (worst), SI2, SI1, VS2, VS1, VVS2, VVS1, IF (best))  \n",
    "depth: total depth percentage = z / mean(x, y) = 2 * z / (x + y) (43--79)  \n",
    "table: width of top of diamond relative to widest point (43--95)  \n",
    "price: price in US dollars (\\$326--\\$18,823)  \n",
    "x: length in mm (0--10.74)  \n",
    "y: width in mm (0--58.9)  \n",
    "z: depth in mm (0--31.8)\n",
    "\n",
    "Price (1-10) was used for the label after discretizes with 10 equal length bins\n",
    "\n"
   ]
  },
  {
   "cell_type": "markdown",
   "metadata": {},
   "source": [
    "## Cleaning the Data\n",
    "\n",
    "I cut dataset down to 2k records to reduce runtime.\n",
    "I discretized price using 10 equal width bins, with values ranging from 1 to 10.  \n",
    "For kNN, I made categorical values (cut, color, quality) into continuous values."
   ]
  },
  {
   "cell_type": "code",
   "execution_count": 1,
   "metadata": {},
   "outputs": [],
   "source": [
    "# Clean data\n",
    "def clean_data():\n",
    "    diamonds_table_normal = []\n",
    "    \n",
    "    # reading csv into table\n",
    "    diamonds_table_normal = utils.read_csv(\"diamonds.csv\")\n",
    "    \n",
    "    # splits dataset into desired sample size to reduce operation runtimes (original dataset has > 50k records)\n",
    "    diamonds_table_normal = split_dataset(diamonds_table_normal, 2000)\n",
    "    \n",
    "    # removes \"record\" attributes\n",
    "    diamonds_table_normal = utils.remove_record(diamonds_table_normal) # removes the \"record\" column from the dataset\n",
    "    \n",
    "    # prints summary stats\n",
    "    print(\"Summary Stats For Diamond Dataset: \")\n",
    "    utils.get_summary_stats(diamonds_table_normal)\n",
    "    utils.write_table(\"diamonds_table_normal.csv\", diamonds_table_normal)\n",
    "    \n",
    "    # equal length bins for classification\n",
    "    diamonds_table_normal = utils.discretization(diamonds_table_normal, 6, 10) # discretizes price column on 1-10 scale\n",
    "    \n",
    "    return diamonds_table_normal"
   ]
  },
  {
   "cell_type": "code",
   "execution_count": 2,
   "metadata": {},
   "outputs": [],
   "source": [
    "# splits dataset into desired sample size. This is to reduce the runtime of certain operation, such as normalization\n",
    "def split_dataset(table, sample_size):\n",
    "    table_sample = []\n",
    "    \n",
    "    n = len(table)\n",
    "    for i in range(sample_size):\n",
    "        j = random.randrange(0, n)\n",
    "        table_sample.append(table[j])\n",
    "    \n",
    "    return table_sample"
   ]
  },
  {
   "cell_type": "code",
   "execution_count": 3,
   "metadata": {},
   "outputs": [],
   "source": [
    "def compute_holdout_partitions(table):\n",
    "    # randomize the table\n",
    "    training_set = []\n",
    "    testing_set = []\n",
    "    training_set_original = []\n",
    "    testing_set_original = []\n",
    "    original_table = []\n",
    "\n",
    "    randomized = table[:]  # copy the table\n",
    "    n = len(table)\n",
    "    for i in range(n):\n",
    "        # pick an index to swap\n",
    "        j = random.randrange(0, n)  # random int in [0,n)\n",
    "        randomized[i], randomized[j] = randomized[j], randomized[i]\n",
    "    # return train and test sets\n",
    "    # 2/3 of randomized table is train, 1/3 is test\n",
    "    split_index = int((2.0/3.0) * n)\n",
    "    # original_table = randomized[:]\n",
    "    original_table = copy.deepcopy(randomized)  # DEEP copy\n",
    "    randomized = utils.normalize_table(randomized)\n",
    "\n",
    "    training_set, testing_set = randomized[0:\n",
    "                                           split_index], randomized[split_index:]\n",
    "    training_set_original, testing_set_original = original_table[\n",
    "        0:split_index], original_table[split_index:]\n",
    "\n",
    "    return training_set, testing_set, training_set_original, testing_set_original"
   ]
  },
  {
   "cell_type": "markdown",
   "metadata": {},
   "source": [
    "### b. Summary Statistics\n",
    "\n",
    "SUMMARY STATISTICS:  \n",
    "│ attribute: carat │\n",
    "│ mean: 0.79       │\n",
    "│ std: 0.47        │\n",
    "\n",
    "│ attribute: depth │\n",
    "│ mean: 61.8       │\n",
    "│ std: 1.47        │\n",
    "\n",
    "│ attribute: table │\n",
    "│ mean: 57.48      │\n",
    "│ std: 2.2         │\n",
    "\n",
    "│ attribute: price │\n",
    "│ mean: 3818.6     │\n",
    "│ std: 3863.79     │\n",
    "\n",
    "│ attribute: x_length │\n",
    "│ mean: 5.71          │\n",
    "│ std: 1.13           │\n",
    "\n",
    "│ attribute: y_width │\n",
    "│ mean: 5.72         │\n",
    "│ std: 1.12          │"
   ]
  },
  {
   "cell_type": "markdown",
   "metadata": {},
   "source": [
    "### c. Visualizations\n",
    "The only visualizations that really stood out were the carat and price frequency diagrams, when compared side by side"
   ]
  },
  {
   "cell_type": "code",
   "execution_count": 4,
   "metadata": {},
   "outputs": [
    {
     "data": {
      "image/jpeg": "[encoded data removed]",
      "text/plain": [
       "<IPython.core.display.Image object>"
      ]
     },
     "execution_count": 4,
     "metadata": {},
     "output_type": "execute_result"
    }
   ],
   "source": [
    "# Figure 1: Shows a frequency diagram for Diamond Count by Carat\n",
    "from IPython.display import Image\n",
    "Image(filename='carat_freq_diagram.jpg')"
   ]
  },
  {
   "cell_type": "code",
   "execution_count": 5,
   "metadata": {},
   "outputs": [
    {
     "data": {
      "image/jpeg": "[encoded data removed]",
      "text/plain": [
       "<IPython.core.display.Image object>"
      ]
     },
     "execution_count": 5,
     "metadata": {},
     "output_type": "execute_result"
    }
   ],
   "source": [
    "# Figure 2: Shows a frequency diagram for Diamond Count by Price\n",
    "from IPython.display import Image\n",
    "Image(filename='price_freq_diagram.jpg')"
   ]
  },
  {
   "cell_type": "markdown",
   "metadata": {},
   "source": [
    "### Correlation\n",
    "When I saw the correlation, I knew I should do a linear regression. After doing so, it's clear that carat is closely tied to price and vice versa"
   ]
  },
  {
   "cell_type": "code",
   "execution_count": 6,
   "metadata": {},
   "outputs": [
    {
     "data": {
      "image/jpeg": "[encoded data removed]",
      "text/plain": [
       "<IPython.core.display.Image object>"
      ]
     },
     "execution_count": 6,
     "metadata": {},
     "output_type": "execute_result"
    }
   ],
   "source": [
    "# Figure 3: Shows a Linear Regression for Price vs Carat \n",
    "from IPython.display import Image\n",
    "Image(filename='price_carat_lin_regression.jpg')"
   ]
  },
  {
   "cell_type": "code",
   "execution_count": 7,
   "metadata": {},
   "outputs": [],
   "source": [
    "def linear_regression_plot(one, two, filename, label1, label2):\n",
    "    # reset figure\n",
    "    x = np.array(one)\n",
    "    y = np.array(two)\n",
    "\n",
    "    xs = x\n",
    "    ys = y\n",
    "    # mpg always y-axis\n",
    "    plt.figure()\n",
    "\n",
    "    plt.xlabel(label1)\n",
    "    plt.ylabel(label2)\n",
    "    plt.title(label1 + \" vs \" + label2)\n",
    "    # create the scatter plot\n",
    "    plt.plot(xs, ys, \"b.\")\n",
    "\n",
    "    # make axis a bit longer and wider\n",
    "    plt.xlim(0, int(max(xs) * 1.10))\n",
    "    plt.ylim(0, int(max(ys) * 1.10))\n",
    "    plt.grid(True)\n",
    "\n",
    "    # plt.savefig(filename)\n",
    "    # r = correlation coefficient\n",
    "    # covariance\n",
    "    slope, intercept, r_value, p_value, std_err = stats.linregress(xs,ys)\n",
    "    covar = np.cov(xs, ys)\n",
    "    line = slope*xs+intercept\n",
    "    plt.plot(xs, line, 'r')\n",
    "    plt.text(350, 45, [\"corr: \" + str(round(r_value,2)), \"cov: \" + str(round(covar[1][0],2))], fontsize='8', bbox=dict(facecolor='red', alpha=0.5))\n",
    "\n",
    "    plt.savefig(filename)\n",
    "    plt.show()"
   ]
  },
  {
   "cell_type": "code",
   "execution_count": 8,
   "metadata": {},
   "outputs": [],
   "source": [
    "def scatter_plot(one, two, filename, label):\n",
    "    # reset figure\n",
    "    x = np.array(one)\n",
    "    y = np.array(two)\n",
    "\n",
    "    xs = x\n",
    "    ys = y\n",
    "    # mpg always y-axis\n",
    "    plt.figure()\n",
    "\n",
    "    plt.xlabel(label)\n",
    "    plt.ylabel(\"price\")\n",
    "    plt.title(label + \" vs \" + \"Price\")\n",
    "    # create the scatter plot\n",
    "    plt.plot(xs, ys, \"b.\")\n",
    "\n",
    "    # make axis a bit longer and wider\n",
    "    plt.xlim(0, int(max(xs) * 1.10))\n",
    "    plt.ylim(0, int(max(ys) * 1.10))\n",
    "    plt.grid(True)\n",
    "\n",
    "    plt.savefig(filename)"
   ]
  },
  {
   "cell_type": "code",
   "execution_count": 9,
   "metadata": {},
   "outputs": [],
   "source": [
    "def perform_vizualizations(table):\n",
    "    table2 = copy.deepcopy(table)\n",
    "    att_list = []\n",
    "    att_count = []\n",
    "    price_list = []\n",
    "    carat_list = []\n",
    "    \n",
    "    \n",
    "#     carat_list = read_attribute(table2, 0)\n",
    "#     price_list = read_attribute(table2, 6)\n",
    "    # Carat, cut, color, clarity, depth, table, price, x_length, y_width, z_depth\n",
    "    \n",
    "    table2 = utils.discretization(table2, 0, 10)\n",
    "    att_list, att_count = utils.get_frequencies_string(table2, 0)\n",
    "#     carat_list = copy.deepcopy(att_list)\n",
    "    frequency_diagram(att_list, att_count, \"carat_freq_diagram.jpg\", \"Carat\")\n",
    "    \n",
    "    table2 = utils.discretization(table2, 4, 10)\n",
    "    att_list, att_count = utils.get_frequencies_string(table2, 4)\n",
    "    frequency_diagram(att_list, att_count, \"depth_freq_diagram.jpg\", \"Depth\")\n",
    "    \n",
    "    table2 = utils.discretization(table2, 5, 10)\n",
    "    att_list, att_count = utils.get_frequencies_string(table2, 5)\n",
    "    frequency_diagram(att_list, att_count, \"table_freq_diagram.jpg\", \"Table\")\n",
    "    \n",
    "    table2 = utils.discretization(table2, 6, 10)\n",
    "    att_list, att_count = utils.get_frequencies_string(table2, 6)\n",
    "    price_list = copy.deepcopy(att_list)\n",
    "    frequency_diagram(att_list, att_count, \"price_freq_diagram.jpg\", \"Price\")\n",
    "    \n",
    "    table2 = utils.discretization(table2, 7, 10)\n",
    "    att_list, att_count = utils.get_frequencies_string(table2, 7)\n",
    "    frequency_diagram(att_list, att_count, \"x_length_freq_diagram.jpg\", \"X_Length\")\n",
    "    \n",
    "    table2 = utils.discretization(table2, 8, 10)\n",
    "    att_list, att_count = utils.get_frequencies_string(table2, 8)\n",
    "    frequency_diagram(att_list, att_count, \"y_length_freq_diagram.jpg\", \"Y_Length\")\n",
    "    \n",
    "    table2 = utils.discretization(table2, 9, 10)\n",
    "    att_list, att_count = utils.get_frequencies_string(table2, 9)\n",
    "    frequency_diagram(att_list, att_count, \"z_length_freq_diagram.jpg\", \"Z_Depth\")\n",
    "    \n",
    "#     table2 = make_continuous(table)\n",
    "\n",
    "    \n",
    "    #     table2 = discretization(table2, 1, 10)\n",
    "    att_list, att_count = utils.get_frequencies_string(table2, 1)\n",
    "    frequency_diagram(att_list, att_count, \"cut_freq_diagram.jpg\", \"Cut\")\n",
    "    \n",
    "#     table2 = discretization(table2, 2, 10)\n",
    "    att_list, att_count = utils.get_frequencies_string(table2, 2)\n",
    "    frequency_diagram(att_list, att_count, \"color_freq_diagram.jpg\", \"Color\")\n",
    "    \n",
    "#     table2 = discretization(table2, 3, 10)\n",
    "    att_list, att_count = utils.get_frequencies_string(table2, 3)\n",
    "    frequency_diagram(att_list, att_count, \"clarity_freq_diagram.jpg\", \"Clarity\")\n",
    "    \n",
    "    carat_list = utils.read_attribute(table2, 0)\n",
    "    price_list = utils.read_attribute(table2, 6)\n",
    "#     print(price_list)\n",
    "    linear_regression_plot(price_list, carat_list, \"price_carat_lin_regression.jpg\", \"Price\", \"Carat\")\n",
    "    scatter_plot(price_list, carat_list, \"price_carat_scatter_plot.jpg\", \"Carat\")\n",
    "    \n"
   ]
  },
  {
   "cell_type": "code",
   "execution_count": 10,
   "metadata": {},
   "outputs": [],
   "source": [
    "def frequency_diagram(xs, ys, filename, chart_label):\n",
    "    plt.figure() # new figure for current figure\n",
    "    plt.bar(xs, ys, align='center')\n",
    "    plt.xlabel(chart_label)\n",
    "    plt.ylabel(\"Count\")\n",
    "    plt.title(\"Diamond Count By \" + chart_label)\n",
    "    plt.savefig(filename)"
   ]
  },
  {
   "cell_type": "markdown",
   "metadata": {},
   "source": [
    "# Classification Results\n",
    "The typical accuracy of each of the classifiers is as follows:  \n",
    "kNN (70%)    \n",
    "TDIDT (15%)  \n",
    "kNN ensemble (66%)  \n",
    "Tensorflow linear evaluator (60%)  \n",
    "I trained the ensemble classifier on different training sets rather than on different attributes or rather than using random attribute selection  \n",
    "I used an N of 20 and an M of 7 for the ensemble classifier\n",
    "\n",
    "### See output for specific classifier results/accuracy"
   ]
  },
  {
   "cell_type": "markdown",
   "metadata": {},
   "source": [
    "### Imports"
   ]
  },
  {
   "cell_type": "code",
   "execution_count": 11,
   "metadata": {},
   "outputs": [
    {
     "name": "stdout",
     "output_type": "stream",
     "text": [
      "2.3.1\n"
     ]
    }
   ],
   "source": [
    "import numpy as np\n",
    "import matplotlib.pyplot as plt\n",
    "from scipy import stats\n",
    "import csv\n",
    "import random\n",
    "import math\n",
    "from operator import itemgetter\n",
    "import copy\n",
    "from tabulate import tabulate\n",
    "import utils\n",
    "import os\n",
    "os.environ[\"TF_CPP_MIN_LOG_LEVEL\"] = \"2\"\n",
    "import tensorflow as tf\n",
    "print(tf.__version__)\n",
    "# from tensorflow.contrib.learn.python.learn.datasets import base ##outdated"
   ]
  },
  {
   "cell_type": "markdown",
   "metadata": {},
   "source": [
    "## Classification Techniques"
   ]
  },
  {
   "cell_type": "markdown",
   "metadata": {},
   "source": [
    "### kNN\n",
    "\n",
    "First, we need to prepare the data for kNN by making all the values continuous.  \n",
    "Once it's done, we will test using stratified k-fold cross validation."
   ]
  },
  {
   "cell_type": "code",
   "execution_count": 12,
   "metadata": {},
   "outputs": [],
   "source": [
    "# kNN\n",
    "def make_table_knn(table):\n",
    "    training_set = []\n",
    "    testing_set = []\n",
    "    training_set_original = []\n",
    "    testing_set_original = []\n",
    "    \n",
    "    utils.make_continuous(table)\n",
    "    utils.normalize_table(table)\n",
    "\n",
    "    return table"
   ]
  },
  {
   "cell_type": "code",
   "execution_count": 13,
   "metadata": {},
   "outputs": [],
   "source": [
    "# kNN\n",
    "def kNN_classifier(training_set1, instance, k):\n",
    "    # carat[0], cut[1], color[2], clarity[3]... classifying price[6]\n",
    "    training_set = copy.deepcopy(training_set1)\n",
    "    row_distances = []\n",
    "    temp_list = []\n",
    "    temp_list2 = []\n",
    "    training_values = []\n",
    "    test_instance = []\n",
    "\n",
    "    test_instance.append(instance[0])\n",
    "    test_instance.append(instance[1])\n",
    "    test_instance.append(instance[2])\n",
    "    test_instance.append(instance[3])\n",
    "    test_instance.append(instance[6])\n",
    "\n",
    "    instance = test_instance\n",
    "\n",
    "    for row in training_set:\n",
    "        temp_list.append(row[0])\n",
    "        temp_list.append(row[1])\n",
    "        temp_list.append(row[2])\n",
    "        temp_list.append(row[3])\n",
    "        temp_list.append(row[6])\n",
    "        temp_list2 = temp_list[:]\n",
    "        training_values.append(temp_list2)\n",
    "        del temp_list[:]\n",
    "\n",
    "    for row in training_values:\n",
    "        d = utils.distance(row, instance)\n",
    "        row_distances.append([d, row])\n",
    "    top_k_rows = utils.get_top_k(row_distances, k)\n",
    "    label = select_class_label(top_k_rows)\n",
    "    return (label)"
   ]
  },
  {
   "cell_type": "code",
   "execution_count": 14,
   "metadata": {},
   "outputs": [],
   "source": [
    "# kNN\n",
    "def select_class_label(top_k_rows):\n",
    "    price_values = []  # price values of the top_k smallest distances\n",
    "    unique_price_values = []\n",
    "    unique_price_freqs = []\n",
    "    class_index = 6\n",
    "\n",
    "    for row in top_k_rows:\n",
    "        price_values.append(row[1])\n",
    "\n",
    "    unique_price_values, unique_price_freqs = utils.get_frequencies(price_values, 0)\n",
    "    class_index = unique_price_freqs.index(max(unique_price_freqs))\n",
    "\n",
    "    return unique_price_values[class_index]"
   ]
  },
  {
   "cell_type": "code",
   "execution_count": 15,
   "metadata": {},
   "outputs": [],
   "source": [
    "# kNN\n",
    "def perform_kNN(table):\n",
    "    training_data_table = []\n",
    "    testing_data_table = []\n",
    "    training_data_table_original = []\n",
    "    testing_data_table_original = []\n",
    "    test_instances = []\n",
    "    test_instances_normalized = []\n",
    "    predicted_values = []\n",
    "    actual_values = []\n",
    "\n",
    "    training_data_table, testing_data_table, training_data_table_original, testing_data_table_original = compute_holdout_partitions(\n",
    "        table)\n",
    "\n",
    "    for i in range(5):\n",
    "        index = random.randint(0, len(testing_data_table)-1)\n",
    "        test_instances.append(testing_data_table_original[index])\n",
    "        test_instances_normalized.append(testing_data_table[index])\n",
    "        test = test_instances_normalized[i]\n",
    "        predicted_values.append(kNN_classifier(training_data_table, test, 5))\n",
    "        \n",
    "    return test_instances, predicted_values, test_instances_normalized"
   ]
  },
  {
   "cell_type": "markdown",
   "metadata": {},
   "source": [
    "### kNN Ensemble\n",
    "\n",
    "We use bootstrapping to help avoid overfitting."
   ]
  },
  {
   "cell_type": "code",
   "execution_count": 16,
   "metadata": {},
   "outputs": [],
   "source": [
    "# ensemble\n",
    "def perform_kNN_ensemble(table1, n, m):\n",
    "    table = copy.deepcopy(table1)\n",
    "    \n",
    "    training_data_table = []\n",
    "    testing_data_table = []\n",
    "    training_data_table_original = []\n",
    "    testing_data_table_original = []\n",
    "    test_instances = []\n",
    "    test_instances_normalized = []\n",
    "    predicted_values = []\n",
    "    actual_values = []\n",
    "    training_data_table_list = []\n",
    "    test_set_original = []\n",
    "    test_set_normalized = []\n",
    "    top_m_list = []\n",
    "     \n",
    "\n",
    "    for i in range(n):\n",
    "        training_data_table, testing_data_table, training_data_table_original, testing_data_table_original = compute_holdout_partitions(\n",
    "        table)\n",
    "        training_data_table_list.append(training_data_table)\n",
    "    test_set_original = copy.deepcopy(testing_data_table_original)\n",
    "    test_set_normalized = utils.normalize_table(testing_data_table_original)\n",
    "       \n",
    "    # gets top m knn classifier data\n",
    "    top_m_list, total_accuracy = get_top_m(training_data_table_list, test_set_normalized, m)\n",
    "\n",
    "        \n",
    "    for i in range(5):\n",
    "        index = random.randint(0, len(testing_data_table)-1)\n",
    "        test_instances.append(testing_data_table_original[index])\n",
    "        test_instances_normalized.append(testing_data_table[index])\n",
    "        test = test_instances_normalized[i]\n",
    "        predicted_values.append(kNN_classifier_ensemble(training_data_table_list, test, 5, n, m))\n",
    "    return test_instances, predicted_values, test_instances_normalized, total_accuracy\n",
    "    "
   ]
  },
  {
   "cell_type": "code",
   "execution_count": 17,
   "metadata": {},
   "outputs": [],
   "source": [
    "# ensemble\n",
    "def kNN_classifier_ensemble(table_list, instance, k, n, m):\n",
    "#     def kNN_classifier(training_set1, instance, k):\n",
    "    # carat[0], cut[1], color[2], clarity[3]... classifying price[6]\n",
    "    training_set = copy.deepcopy(table_list)\n",
    "    row_distances = []\n",
    "    temp_list = []\n",
    "    temp_list2 = []\n",
    "    training_values = []\n",
    "    test_instance = []\n",
    "    labels_list = []\n",
    "\n",
    "    test_instance.append(instance[0])\n",
    "    test_instance.append(instance[1])\n",
    "    test_instance.append(instance[2])\n",
    "    test_instance.append(instance[3])\n",
    "    test_instance.append(instance[6])\n",
    "\n",
    "    instance = test_instance\n",
    "    \n",
    "    for table in table_list:\n",
    "        for row in table:\n",
    "            temp_list.append(row[0])\n",
    "            temp_list.append(row[1])\n",
    "            temp_list.append(row[2])\n",
    "            temp_list.append(row[3])\n",
    "            temp_list.append(row[6])\n",
    "            temp_list2 = temp_list[:]\n",
    "            training_values.append(temp_list2)\n",
    "            del temp_list[:]\n",
    "\n",
    "    for row in training_values:\n",
    "        d = utils.distance(row, instance)\n",
    "        row_distances.append([d, row])\n",
    "    top_k_rows = utils.get_top_k(row_distances, k)\n",
    "    label = select_class_label(top_k_rows)\n",
    "    return (label)"
   ]
  },
  {
   "cell_type": "code",
   "execution_count": 18,
   "metadata": {},
   "outputs": [],
   "source": [
    "# ensemble\n",
    "# Get the best m classifiers \n",
    "def get_top_m(training_data_table_list, test_set_normalized, m):\n",
    "    accuracy_list = []\n",
    "    error_list = []\n",
    "    top_m_list = []\n",
    "    accuracy_list_copy = []\n",
    "    index_list = []\n",
    "    top_table_list = []\n",
    "    \n",
    "    for table in training_data_table_list:\n",
    "        accuracy, error = kNN_top_m_helper(table, 10, test_set_normalized)\n",
    "        accuracy_list.append(accuracy)\n",
    "        error_list.append(error)\n",
    "        \n",
    "    top_m_list = utils.get_top_k(accuracy_list, m)\n",
    "    total_accuracy = sum(top_m_list)/m\n",
    "    \n",
    "    for item in top_m_list:\n",
    "        index_list.append(accuracy_list.index(item))\n",
    "    \n",
    "    \n",
    "    for index in index_list:\n",
    "        top_table_list.append(training_data_table_list[index])\n",
    "    \n",
    "    \n",
    "    return top_table_list, total_accuracy\n",
    "    \n",
    "    \n"
   ]
  },
  {
   "cell_type": "code",
   "execution_count": 19,
   "metadata": {},
   "outputs": [],
   "source": [
    "# ensemble\n",
    "# gets error rates of kNN classifiers to determine which are the most accurate\n",
    "def kNN_top_m_helper(train_set, k, test_set):\n",
    "    new_train_set = copy.deepcopy(train_set)\n",
    "    new_test_set = copy.deepcopy(test_set)\n",
    "    \n",
    "    training_data_table = []\n",
    "    testing_data_table = []\n",
    "    training_data_table_original = []\n",
    "    testing_data_table_original = []\n",
    "    test_instances = []\n",
    "    test_instances_normalized = []\n",
    "    predicted_values = []\n",
    "    actual_values = []\n",
    "\n",
    "    training_data_table = utils.normalize_table(new_train_set)\n",
    "    testing_data_table = utils.normalize_table(new_test_set)\n",
    "    training_data_table_original = copy.deepcopy(train_set)\n",
    "    testing_data_table_original = copy.deepcopy(test_set)\n",
    "\n",
    "    for i in range(5):\n",
    "        index = random.randint(0, len(testing_data_table)-1)\n",
    "        test_instances.append(testing_data_table_original[index])\n",
    "        test_instances_normalized.append(testing_data_table[index])\n",
    "        test = test_instances_normalized[i]\n",
    "        predicted_values.append(kNN_classifier(training_data_table, test, 5))\n",
    "\n",
    "    step2_test_instances = []\n",
    "    step2_predicted_values = []\n",
    "    step2_test_instances_normalized = []\n",
    "    step2_correct_count = 0\n",
    "\n",
    "\n",
    "    temp_list = []\n",
    "\n",
    "    new_list = []\n",
    "    new_list = copy.deepcopy(new_train_set)\n",
    "\n",
    "    partition_size = math.ceil(len(new_list)/k)\n",
    "    x = list(utils.divide_chunks(new_list, partition_size))\n",
    "\n",
    "    for i in range(10):\n",
    "        temp_list = x[i]\n",
    "\n",
    "\n",
    "        val4, val5, val6 = test_instances, predicted_values, test_instances_normalized\n",
    "        step2_predicted_values.append(val5)\n",
    "        step2_test_instances_normalized.append(val6)\n",
    "\n",
    "    for i in range(k):\n",
    "        for j in range(5):\n",
    "            if step2_predicted_values[i][j] == step2_test_instances_normalized[i][j][0]:\n",
    "                step2_correct_count += 1\n",
    "            \n",
    "\n",
    "    step2_accuracy = step2_correct_count/float(k*5)\n",
    "\n",
    "    step2_error_rate = round(1 - step2_accuracy, 2)\n",
    "\n",
    "    return step2_accuracy, step2_error_rate"
   ]
  },
  {
   "cell_type": "code",
   "execution_count": 20,
   "metadata": {},
   "outputs": [],
   "source": [
    "# ensemble\n",
    "# made to classify single inputs if the user has the desire to do so\n",
    "def classify_individual_kNN(table, instance):\n",
    "    table_2 = copy.deepcopy(table)\n",
    "    table_2 = utils.normalize_table(table_2)\n",
    "    \n",
    "    training_data_table = []\n",
    "    testing_data_table = []\n",
    "    training_data_table_original = []\n",
    "    testing_data_table_original = []\n",
    "    test_instances = []\n",
    "    test_instances_normalized = []\n",
    "    predicted_values = []\n",
    "    actual_values = []\n",
    "    \n",
    "    training_data_table, testing_data_table, training_data_table_original, testing_data_table_original = compute_holdout_partitions(\n",
    "        table)\n",
    "    \n",
    "    # have to do this so can normalize test instance!\n",
    "    testing_data_table_original.append(instance)\n",
    "    testing_data_table_original = utils.normalize_table(testing_data_table_original)\n",
    "    \n",
    "    test = testing_data_table_original[-1]\n",
    "    \n",
    "    predicted_value = kNN_classifier(table_2, test, 5)\n",
    "        \n",
    "    return int(predicted_value), instance[6]\n",
    "\n"
   ]
  },
  {
   "cell_type": "code",
   "execution_count": 21,
   "metadata": {},
   "outputs": [],
   "source": [
    "# ensemble\n",
    "def kNN_print_ensemble(test_instances, predicted_values, test_instances_normalized, total_accuracy):\n",
    "    # print results using tabulate\n",
    "    my_table = [[\"instance \" + str(0) + \": \", test_instances[0]], [\"class \" + str(\n",
    "        0) + \": \", int(predicted_values[0])], [\"actual \" + str(0) + \": \", test_instances_normalized[0][0]]]\n",
    "    print(tabulate(my_table, headers=[\n",
    "          \"kNN Ensemble Diamond Price Classifier Overall Accuracy: \" + str(total_accuracy)], tablefmt=\"fancy_grid\"))\n",
    "\n",
    "    for i in range(1, 5):\n",
    "        my_table = [[\"instance \" + str(i) + \": \", test_instances[i]], [\"class \" + str(\n",
    "            i) + \": \", int(predicted_values[i])], [\"actual \" + str(i) + \": \", test_instances_normalized[i][0]]]\n",
    "        print(tabulate(my_table, tablefmt=\"fancy_grid\"))"
   ]
  },
  {
   "cell_type": "markdown",
   "metadata": {},
   "source": [
    "### Tensorflow Linear Evaluator\n",
    "This was difficult because some of the documentation I was using was outdated. Eventually I learned how to do it mostly from this documentation: https://www.tensorflow.org/guide/datasets_for_estimators"
   ]
  },
  {
   "cell_type": "code",
   "execution_count": 22,
   "metadata": {},
   "outputs": [],
   "source": [
    "def perform_tensorflow(table, outfile):\n",
    "    # Fetch the data\n",
    "    diamond_training_table = []\n",
    "    diamond_test_table = []\n",
    "    \n",
    "    new_table = copy.deepcopy(table)\n",
    "    diamonds_table_tensorflow = prepare_TDIDT(new_table, outfile)\n",
    "    \n",
    "    diamonds_table_tensorflow = utils.make_continuous(diamonds_table_tensorflow)\n",
    "    utils.write_table(outfile, diamonds_table_tensorflow)\n",
    "    \n",
    "    utils.discretization(diamonds_table_tensorflow, -1, 10) # table, index, num_bins\n",
    "    \n",
    "    diamond_training_table, diamond_test_table = compute_holdout_partitions_tensorflow(diamonds_table_tensorflow)\n",
    "\n",
    "    \n",
    "    \n",
    "    utils.write_table_header(\"diamond_training.csv\", diamond_training_table, ['carat', 'cut', 'color', 'clarity', 'price'])\n",
    "    utils.write_table_header(\"diamond_test.csv\", diamond_test_table, ['carat', 'cut', 'color', 'clarity', 'price'])\n",
    "    \n",
    "\n",
    "    training_set, test_set = utils.maybe_download()\n",
    "    \n",
    "    # All the inputs are numeric\n",
    "    feature_columns = [\n",
    "        tf.feature_column.numeric_column(name)\n",
    "        for name in utils.CSV_COLUMN_NAMES[:-1]]\n",
    "    \n",
    "    \n",
    "    # Build the estimator\n",
    "    est = tf.estimator.LinearClassifier(feature_columns,\n",
    "                                    n_classes=11)\n",
    "    \n",
    "    # Train the estimator\n",
    "    batch_size = 100\n",
    "    est.train(\n",
    "        steps=1000,\n",
    "        input_fn=lambda : utils.csv_input_fn(training_set, batch_size))\n",
    "    \n",
    "    # Evaluate accuracy\n",
    "    accuracy_score = est.evaluate(input_fn=lambda : utils.csv_input_fn(test_set, batch_size), steps=1000)[\"accuracy\"]\n",
    "    print('\\nAccuracy: {0:f}'.format(accuracy_score))\n"
   ]
  },
  {
   "cell_type": "code",
   "execution_count": 23,
   "metadata": {},
   "outputs": [],
   "source": [
    "def compute_holdout_partitions_tensorflow(table1):\n",
    "    table = copy.deepcopy(table1)\n",
    "    # randomize the table\n",
    "    training_set = []\n",
    "    testing_set = []\n",
    "    original_table = []\n",
    "\n",
    "    randomized = table[:]  # copy the table\n",
    "    n = len(table)\n",
    "    for i in range(n):\n",
    "        # pick an index to swap\n",
    "        j = random.randrange(0, n)  # random int in [0,n)\n",
    "        randomized[i], randomized[j] = randomized[j], randomized[i]\n",
    "    # return train and test sets\n",
    "    # 2/3 of randomized table is train, 1/3 is test\n",
    "    split_index = int((2.0/3.0) * n)\n",
    "    original_table = copy.deepcopy(randomized)  # DEEP copy\n",
    "    randomized = utils.normalize_table(randomized)\n",
    "\n",
    "    training_set, testing_set = randomized[0:\n",
    "                                           split_index], randomized[split_index:]\n",
    "    training_set_original, testing_set_original = original_table[\n",
    "        0:split_index], original_table[split_index:]\n",
    "\n",
    "    return training_set, testing_set"
   ]
  },
  {
   "cell_type": "markdown",
   "metadata": {},
   "source": [
    "### TDIDT\n",
    "We will test using stratified k-fold cross validation."
   ]
  },
  {
   "cell_type": "code",
   "execution_count": 24,
   "metadata": {},
   "outputs": [],
   "source": [
    "def perform_TDIDT(table, outfile):\n",
    "    new_table = copy.deepcopy(table)\n",
    "    diamonds_table_tdidt = [] \n",
    "    \n",
    "    diamonds_table_tdidt = prepare_TDIDT(new_table, outfile)\n",
    "    \n",
    "    decision_tree = []\n",
    "#     carat(0), cut(1), color(2), and clarity(3)\n",
    "    header = [\"carat\", \"cut\", \"color\", \"clarity\", \"price\"]\n",
    "    att_indexes = list(range(len(header) - 1))\n",
    "    tdidt(diamonds_table_tdidt, att_indexes, header, decision_tree, 0)\n",
    "    \n",
    "    actual_values, predicted_values = K_fold_testing(diamonds_table_tdidt, decision_tree)\n",
    "    tdidt_accuracy(actual_values, predicted_values)\n",
    "    \n",
    "\n"
   ]
  },
  {
   "cell_type": "code",
   "execution_count": 25,
   "metadata": {},
   "outputs": [],
   "source": [
    "def prepare_TDIDT(table, outfile):\n",
    "    new_table = copy.deepcopy(table)\n",
    "    tdidt_table = []\n",
    "    # need transform any continuous values into categorical values (index 0(carat), 4(depth), 5(table),\n",
    "    # 6(z), 7(x), 8(y))\n",
    "    \n",
    "    tdidt_table = utils.move_price(new_table)\n",
    "    utils.write_table(\"diamonds_table_price_last.csv\", tdidt_table)\n",
    "    \n",
    "    # was going to use tdidt on all attributes, but decided to use only carat(0), cut(1), color(2), and clarity(3)\n",
    "    \n",
    "    utils.discretization(tdidt_table, 0, 5) # table, index, num_bins\n",
    "\n",
    "    \n",
    "    tdidt_table = utils.shrink_tdidt(tdidt_table)\n",
    "    tdidt_table = utils.make_string(tdidt_table)\n",
    "    \n",
    "    utils.write_table(outfile, tdidt_table)\n",
    "    \n",
    "    \n",
    "    \n",
    "    return tdidt_table"
   ]
  },
  {
   "cell_type": "code",
   "execution_count": 26,
   "metadata": {},
   "outputs": [],
   "source": [
    "def tdidt(table, atts, header, tree, cur_val):\n",
    "    # Basic Approach (uses recursion!):\n",
    "\n",
    "    # At each step, pick an attribute (\"attribute selection\")\n",
    "    att_index = select_attribute(table, atts)\n",
    "    atts.remove(att_index) # remember: Python is pass\n",
    "    # by object reference!!\n",
    "\n",
    "    tree.append(\"attribute\")\n",
    "    tree.append(header[att_index])\n",
    "    branch = []\n",
    "    tree.append(branch)\n",
    "\n",
    "    values, my_tables = split_table(table, att_index)\n",
    "    class_0 = table[0][-1]\n",
    "    case1 = True\n",
    "    for my_table in my_tables:\n",
    "        for instance in my_table:\n",
    "            if instance[-1] != class_0:\n",
    "                case1 = False\n",
    "    # CASE 1: Partition has only class labels that are the same ... no clashes, make a leaf node\n",
    "    if case1:\n",
    "        atts.append(att_index)\n",
    "        branch.append(\"value\")\n",
    "        branch.append(values[0])\n",
    "        data = utils.get_counts(my_tables)\n",
    "        branch.append([\"leaf\"] + data)\n",
    "        return None\n",
    "    # Case 2: clash\n",
    "    if len(atts) == 0:\n",
    "        atts.append(att_index)\n",
    "        for y in range(len(my_tables)):\n",
    "            branch.append(\"value\")\n",
    "            branch.append(values[y])\n",
    "            data = get_clashes(my_tables[y])\n",
    "            branch.append([\"leaf\"] + data)\n",
    "        return None\n",
    "    # Case 3: no more instances\n",
    "    if len(values) == 0:\n",
    "        atts.append(att_index)\n",
    "        branch.append(\"value\")\n",
    "        branch.append(cur_val)\n",
    "        data = utils.get_counts(my_tables)\n",
    "        branch.append([\"leaf\"] + data)\n",
    "        return None\n",
    "    else:\n",
    "        for i in range(len(my_tables)):\n",
    "            branch.append(\"value\")\n",
    "            branch.append(values[i])\n",
    "            value_branch = []\n",
    "            branch.append(value_branch)\n",
    "            tdidt(my_tables[i], atts, header, value_branch, i)"
   ]
  },
  {
   "cell_type": "code",
   "execution_count": 27,
   "metadata": {},
   "outputs": [],
   "source": [
    "# tdidt\n",
    "def select_attribute(table, atts):\n",
    "    e_start= entropy(table, -1)\n",
    "    e_new = 0\n",
    "    total = len(table)\n",
    "    info_gains = [[] for x in range(len(atts))]\n",
    "    split_table(table, 1)\n",
    "    for i in range(len(atts)):    \n",
    "        values, my_tables = split_table(table, atts[i])\n",
    "        for my_table in my_tables:\n",
    "            e_new += (len(my_table)/total) * entropy(my_table, -1)\n",
    "        info_gains[i] = e_start - e_new\n",
    "    best = info_gains[0]\n",
    "    bestInd = 0\n",
    "    for x in range(len(info_gains)):\n",
    "        if info_gains[x] > best:\n",
    "            best = info_gains[x]\n",
    "            bestInd = x\n",
    "    return(atts[bestInd])"
   ]
  },
  {
   "cell_type": "code",
   "execution_count": 28,
   "metadata": {},
   "outputs": [],
   "source": [
    "# tdidt\n",
    "def split_table(table, index):\n",
    "    values, counts = utils.get_frequencies_string(table, index)\n",
    "    my_tables = [[] for x in range(len(values))]\n",
    "    for i in range(len(values)):\n",
    "        for j in range(len(table)):\n",
    "            if table[j][index] == values[i]:\n",
    "                my_tables[i].append(table[j])\n",
    "    return values, my_tables"
   ]
  },
  {
   "cell_type": "code",
   "execution_count": 29,
   "metadata": {},
   "outputs": [],
   "source": [
    "# tdidt\n",
    "def entropy(table, index):\n",
    "    values, counts = utils.get_frequencies_string(table, index)\n",
    "    entropy = 0\n",
    "    total = sum(counts)\n",
    "    for i in range(len(values)):\n",
    "        temp = (counts[i]/total) * math.log2(counts[i]/total)\n",
    "        entropy = entropy - temp\n",
    "    return entropy"
   ]
  },
  {
   "cell_type": "code",
   "execution_count": 30,
   "metadata": {},
   "outputs": [],
   "source": [
    "# tdidt\n",
    "def get_clashes(table):\n",
    "    values, counts = utils.get_frequencies(table, -1)\n",
    "    new_table = []\n",
    "    choice = max(counts)\n",
    "    index = counts.index(choice)\n",
    "    new_table.append(values[index])\n",
    "    new_table.append(counts[index])\n",
    "    del values[index]\n",
    "    del counts[index]\n",
    "    for i in range(len(values)):\n",
    "        new_table.append(values[i])\n",
    "        new_table.append(counts[i])\n",
    "    return new_table"
   ]
  },
  {
   "cell_type": "code",
   "execution_count": 31,
   "metadata": {},
   "outputs": [],
   "source": [
    "# tdidt\n",
    "def K_fold_testing(table, tree):\n",
    "#     header = [\"carat\", \"cut\", \"color\", \"clarity\", \"price\"]\n",
    "    att_conversion = {\n",
    "        \"carat\": 0,\n",
    "        \"cut\": 1,\n",
    "        \"color\": 2,\n",
    "        \"clarity\": 3,\n",
    "        \"price\": 4\n",
    "    }\n",
    "    folds = tdidt_cross_validation(table)\n",
    "    actual = []\n",
    "    predicted = []\n",
    "    actual_data = []\n",
    "    predicted_data = []\n",
    "    for i in range(len(folds)):\n",
    "        training, test = tdidt_cross_helper(folds, i)\n",
    "        for instance in test:\n",
    "            if (prediction(tree, instance, att_conversion, 0)) is not None:\n",
    "                actual_data, predicted_data = prediction(tree, instance, att_conversion, 0)\n",
    "                actual.append(actual_data)\n",
    "                predicted.append(predicted_data)\n",
    "    return actual, predicted"
   ]
  },
  {
   "cell_type": "code",
   "execution_count": 32,
   "metadata": {},
   "outputs": [],
   "source": [
    "# tdidt\n",
    "def tdidt_accuracy(actual, predicted):\n",
    "    total_accuracy = 0\n",
    "    total_correct = 0\n",
    "    for c in range(len(actual)):\n",
    "        if predicted[c] == actual[c]:\n",
    "            total_correct += 1\n",
    "    print (\"TDIDT Accuracy: \" + str(total_correct/len(actual)))  "
   ]
  },
  {
   "cell_type": "code",
   "execution_count": 33,
   "metadata": {},
   "outputs": [],
   "source": [
    "# tdidt\n",
    "def tdidt_cross_validation(table):\n",
    "    randomized = table[:]\n",
    "    classes = [\"1\", \"2\", \"3\", \"4\", \"5\", \"6\", \"7\", \"8\", \"9\", \"10\"]\n",
    "    #classCounts = [0, 0, 0, 0, 0, 0, 0, 0, 0, 0]\n",
    "    stratified = [ [], [], [], [], [], [], [], [], [], [] ]\n",
    "    for i in range(len(classes)):\n",
    "        for row in randomized:\n",
    "            if row[-1] == classes[i]:\n",
    "                stratified[i].append(row)\n",
    "                #classCounts[i] += 1\n",
    "    folds = [ [], [], [], [], [], [], [], [], [], [] ]\n",
    "    for classification in stratified:\n",
    "        for i in range(len(classification)):\n",
    "            j = i % 10\n",
    "            folds[j].append(classification[i])\n",
    "    return folds"
   ]
  },
  {
   "cell_type": "code",
   "execution_count": 34,
   "metadata": {},
   "outputs": [],
   "source": [
    "# tdidt\n",
    "def tdidt_cross_helper(folds, index):\n",
    "    new_list = copy.deepcopy(folds)\n",
    "    test = new_list[index]\n",
    "    del new_list[index]\n",
    "    new_list2 = []\n",
    "    for fold in new_list:\n",
    "        for diamond in fold:\n",
    "            new_list2.append(diamond)\n",
    "    return new_list2, test"
   ]
  },
  {
   "cell_type": "code",
   "execution_count": 35,
   "metadata": {},
   "outputs": [],
   "source": [
    "# tdidt\n",
    "def prediction(tree, instance, att_conversion, cur_att):\n",
    "    actual = instance[-1]\n",
    "    if tree[0] == \"leaf\":\n",
    "        return actual, tree[1]\n",
    "    cur_att = att_conversion[tree[1]]\n",
    "    for i in range(2, len(tree[-1]), 3):\n",
    "        if tree[-1][i-1] == instance[cur_att]:\n",
    "            return prediction(tree[-1][i], instance, att_conversion, cur_att)"
   ]
  },
  {
   "cell_type": "markdown",
   "metadata": {},
   "source": [
    "### Predictive Ability Testing Methods\n",
    "\n",
    "We use the holdout method for ensemble. "
   ]
  },
  {
   "cell_type": "code",
   "execution_count": 36,
   "metadata": {},
   "outputs": [],
   "source": [
    "def kNN_cross_validation(table, k):\n",
    "    # test_instances_original, predicted_values, actual_values\n",
    "\n",
    "    # test_instances, predicted_values, test_instances_normalized\n",
    "    step2_test_instances = []\n",
    "    step2_predicted_values = []\n",
    "    step2_test_instances_normalized = []\n",
    "    step2_correct_count = 0\n",
    "\n",
    "\n",
    "    temp_list = []\n",
    "\n",
    "    new_list = []\n",
    "    new_list = copy.deepcopy(table)\n",
    "\n",
    "    partition_size = math.ceil(len(new_list)/k)\n",
    "    x = list(utils.divide_chunks(new_list, partition_size))\n",
    "\n",
    "    for i in range(10):\n",
    "        temp_list = x[i]\n",
    "\n",
    "\n",
    "        val4, val5, val6 = perform_kNN(temp_list)\n",
    "        step2_predicted_values.append(val5)\n",
    "        step2_test_instances_normalized.append(val6)\n",
    "\n",
    "    for i in range(k):\n",
    "        for j in range(5):\n",
    "            if step2_predicted_values[i][j] == step2_test_instances_normalized[i][j][0]:\n",
    "                step2_correct_count += 1\n",
    "            \n",
    "\n",
    "    step2_accuracy = step2_correct_count/float(k*5)\n",
    "\n",
    "    step2_error_rate = round(1 - step2_accuracy, 2)\n",
    "\n",
    "    return step2_accuracy, step2_error_rate"
   ]
  },
  {
   "cell_type": "code",
   "execution_count": 37,
   "metadata": {},
   "outputs": [],
   "source": [
    "# print kNN results\n",
    "def kNN_print(test_instances, predicted_values, test_instances_normalized):\n",
    "    # print results using tabulate\n",
    "    my_table = [[\"instance \" + str(0) + \": \", test_instances[0]], [\"class \" + str(\n",
    "        0) + \": \", int(predicted_values[0])], [\"actual \" + str(0) + \": \", test_instances_normalized[0][0]]]\n",
    "    print(tabulate(my_table, headers=[\n",
    "          \"kNN: k=5 Nearest Neighbor Diamond Price Classifier\"], tablefmt=\"fancy_grid\"))\n",
    "\n",
    "    for i in range(1, 5):\n",
    "        my_table = [[\"instance \" + str(i) + \": \", test_instances[i]], [\"class \" + str(\n",
    "            i) + \": \", int(predicted_values[i])], [\"actual \" + str(i) + \": \", test_instances_normalized[i][0]]]\n",
    "        print(tabulate(my_table, tablefmt=\"fancy_grid\"))"
   ]
  },
  {
   "cell_type": "code",
   "execution_count": 38,
   "metadata": {},
   "outputs": [],
   "source": [
    "def kNN_cross_print(step2_accuracy, step2_error_rate):\n",
    "        # print results using tabulate\n",
    "    my_table = [[\"Stratified 10-Fold Cross Validation\"], [\"k Nearest Neighbors: accuracy = \" +\n",
    "                                                          str(step2_accuracy)], [\"k Nearest Neighbors: error rate = \" + str(step2_error_rate)]]\n",
    "    print(tabulate(my_table, headers=[\n",
    "          \"kNN Cross Validation: Predictive Accuracy\"], tablefmt=\"fancy_grid\"))\n",
    "    \n",
    "    "
   ]
  },
  {
   "cell_type": "markdown",
   "metadata": {},
   "source": [
    "# Conclusion\n",
    "Carat seemed to be the most correlated attribute when it came to evaluating price accurately. The dataset did not post any inherent challenges other than the 50 thousand+ record size which caused long runtimes before it was (easily) trimmed down to 2 thousand records. \n",
    "The classification approach I developed was straightforward and simply involved building each classifier isolated from one another.\n",
    "kNN showed the best performance, followed by the tensorflow linear estimator, followed by the ensemble classifier and tdidt classifiers, respectively. To improve performance, I would train the ensemble classifier on different attributes or by using random attribute selection.\n"
   ]
  },
  {
   "cell_type": "markdown",
   "metadata": {},
   "source": [
    "### Run Main Function"
   ]
  },
  {
   "cell_type": "code",
   "execution_count": 39,
   "metadata": {},
   "outputs": [],
   "source": [
    "# Executes all steps\n",
    "def execute_all_steps():\n",
    "    diamonds_table_normal = []\n",
    "    diamonds_table_knn = []\n",
    "    diamonds_table_tdidt = []\n",
    "    diamonds_table_price_last = []\n",
    "    \n",
    "    knn_test_instances = []\n",
    "    knn_predicted_values = []\n",
    "    knn_test_instances_normalized = []\n",
    "    \n",
    "    ensemble_test_instances = []\n",
    "    ensemble_predicted_values = []\n",
    "    ensemble_test_instances_normalized = []\n",
    "    \n",
    "    \n",
    "    diamonds_table_normal = clean_data()\n",
    "    utils.write_table(\"diamonds_table_normal_clean.csv\", diamonds_table_normal)\n",
    "    diamonds_table_normal2 = copy.deepcopy(diamonds_table_normal)\n",
    "    \n",
    "    \n",
    "    \n",
    "    perform_vizualizations(diamonds_table_normal2)\n",
    "    \n",
    "    # making table to use with kNN. All it does is make nominal columns into continuous,\n",
    "    # then normalizes them\n",
    "    diamonds_table_knn = make_table_knn(diamonds_table_normal)\n",
    "    \n",
    "    # saving data from kNN so it can be displayed\n",
    "    knn_test_instances, knn_predicted_values, knn_test_instances_normalized = perform_kNN(diamonds_table_knn)\n",
    "    instance = [3,3,7,1,62,58,3,7.31,7.37,4.55]\n",
    "    predicted, actual = classify_individual_kNN(diamonds_table_knn, instance)\n",
    "    print(\"INSTANCES\", [3,3,7,1,62,58,3,7.31,7.37,4.55])\n",
    "    print(\"INSTANCE CLASSIFICATION: \", predicted)\n",
    "    print(\"INSTANCE ACTUAL: \", actual)\n",
    "    \n",
    "    \n",
    "#     displaying kNN data\n",
    "    kNN_print(knn_test_instances, knn_predicted_values, knn_test_instances_normalized)\n",
    "    \n",
    "    kNN_accuracy, kNN_error_rate = kNN_cross_validation(diamonds_table_knn, 10)\n",
    "    kNN_cross_print(kNN_accuracy, kNN_error_rate)\n",
    "    \n",
    "    ensemble_test_instances, ensemble_predicted_values, ensemble_test_instances_normalized, total_accuracy = perform_kNN_ensemble(diamonds_table_knn, 20, 7)\n",
    "\n",
    "\n",
    "    kNN_print_ensemble(ensemble_test_instances, ensemble_predicted_values, ensemble_test_instances_normalized, total_accuracy)\n",
    "\n",
    "    \n",
    "\n",
    "    \n",
    "    perform_TDIDT(diamonds_table_normal2, \"diamonds_table_tdidt.csv\")\n",
    "    perform_tensorflow(diamonds_table_normal2, \"diamonds_table_tensorflow7.csv\")\n",
    "    "
   ]
  },
  {
   "cell_type": "code",
   "execution_count": 40,
   "metadata": {},
   "outputs": [
    {
     "name": "stdout",
     "output_type": "stream",
     "text": [
      "Summary Stats For Diamond Dataset: \n",
      "╒════════════════════════╕\n",
      "│ SUMMARY STATISTICS:    │\n",
      "╞════════════════════════╡\n",
      "│ attribute: carat       │\n",
      "├────────────────────────┤\n",
      "│ mean: 0.78             │\n",
      "├────────────────────────┤\n",
      "│ std: 0.46              │\n",
      "╘════════════════════════╛\n",
      "╒══════════════════╕\n",
      "│ attribute: depth │\n",
      "├──────────────────┤\n",
      "│ mean: 61.72      │\n",
      "├──────────────────┤\n",
      "│ std: 1.48        │\n",
      "╘══════════════════╛\n",
      "╒══════════════════╕\n",
      "│ attribute: table │\n",
      "├──────────────────┤\n",
      "│ mean: 57.41      │\n",
      "├──────────────────┤\n",
      "│ std: 2.3         │\n",
      "╘══════════════════╛\n",
      "╒══════════════════╕\n",
      "│ attribute: price │\n",
      "├──────────────────┤\n",
      "│ mean: 3782.53    │\n",
      "├──────────────────┤\n",
      "│ std: 3874.96     │\n",
      "╘══════════════════╛\n",
      "╒═════════════════════╕\n",
      "│ attribute: x_length │\n",
      "├─────────────────────┤\n",
      "│ mean: 5.68          │\n",
      "├─────────────────────┤\n",
      "│ std: 1.11           │\n",
      "╘═════════════════════╛\n",
      "╒════════════════════╕\n",
      "│ attribute: y_width │\n",
      "├────────────────────┤\n",
      "│ mean: 5.68         │\n",
      "├────────────────────┤\n",
      "│ std: 1.1           │\n",
      "╘════════════════════╛\n",
      "max(values):  18557.0\n",
      "max(values):  2.56\n",
      "max(values):  68.7\n",
      "max(values):  73.0\n",
      "max(values):  10.0\n",
      "max(values):  8.76\n",
      "max(values):  8.73\n",
      "max(values):  5.49\n"
     ]
    },
    {
     "data": {
      "image/png": "[encoded data removed]",
      "text/plain": [
       "<Figure size 432x288 with 1 Axes>"
      ]
     },
     "metadata": {
      "needs_background": "light"
     },
     "output_type": "display_data"
    },
    {
     "data": {
      "image/png": "[encoded data removed]",
      "text/plain": [
       "<Figure size 432x288 with 1 Axes>"
      ]
     },
     "metadata": {
      "needs_background": "light"
     },
     "output_type": "display_data"
    },
    {
     "data": {
      "image/png": "[encoded data removed]",
      "text/plain": [
       "<Figure size 432x288 with 1 Axes>"
      ]
     },
     "metadata": {
      "needs_background": "light"
     },
     "output_type": "display_data"
    },
    {
     "data": {
      "image/png": "[encoded data removed]",
      "text/plain": [
       "<Figure size 432x288 with 1 Axes>"
      ]
     },
     "metadata": {
      "needs_background": "light"
     },
     "output_type": "display_data"
    },
    {
     "data": {
      "image/png": "[encoded data removed]",
      "text/plain": [
       "<Figure size 432x288 with 1 Axes>"
      ]
     },
     "metadata": {
      "needs_background": "light"
     },
     "output_type": "display_data"
    },
    {
     "data": {
      "image/png": "[encoded data removed]",
      "text/plain": [
       "<Figure size 432x288 with 1 Axes>"
      ]
     },
     "metadata": {
      "needs_background": "light"
     },
     "output_type": "display_data"
    },
    {
     "data": {
      "image/png": "[encoded data removed]",
      "text/plain": [
       "<Figure size 432x288 with 1 Axes>"
      ]
     },
     "metadata": {
      "needs_background": "light"
     },
     "output_type": "display_data"
    },
    {
     "data": {
      "image/png": "[encoded data removed]",
      "text/plain": [
       "<Figure size 432x288 with 1 Axes>"
      ]
     },
     "metadata": {
      "needs_background": "light"
     },
     "output_type": "display_data"
    },
    {
     "data": {
      "image/png": "[encoded data removed]",
      "text/plain": [
       "<Figure size 432x288 with 1 Axes>"
      ]
     },
     "metadata": {
      "needs_background": "light"
     },
     "output_type": "display_data"
    },
    {
     "data": {
      "image/png": "[encoded data removed]",
      "text/plain": [
       "<Figure size 432x288 with 1 Axes>"
      ]
     },
     "metadata": {
      "needs_background": "light"
     },
     "output_type": "display_data"
    },
    {
     "data": {
      "image/png": "[encoded data removed]",
      "text/plain": [
       "<Figure size 432x288 with 1 Axes>"
      ]
     },
     "metadata": {
      "needs_background": "light"
     },
     "output_type": "display_data"
    },
    {
     "name": "stdout",
     "output_type": "stream",
     "text": [
      "INSTANCES [3, 3, 7, 1, 62, 58, 3, 7.31, 7.37, 4.55]\n",
      "INSTANCE CLASSIFICATION:  3\n",
      "INSTANCE ACTUAL:  3\n",
      "╒═════════════╤═══════════════════════════════════════════════════════╕\n",
      "│             │ kNN: k=5 Nearest Neighbor Diamond Price Classifier    │\n",
      "╞═════════════╪═══════════════════════════════════════════════════════╡\n",
      "│ instance 0: │ [3, 5, 1, 3, '59.8', '61', 6, '7.87', '7.91', '4.72'] │\n",
      "├─────────────┼───────────────────────────────────────────────────────┤\n",
      "│ class 0:    │ 4                                                     │\n",
      "├─────────────┼───────────────────────────────────────────────────────┤\n",
      "│ actual 0:   │ 3                                                     │\n",
      "╘═════════════╧═══════════════════════════════════════════════════════╛\n",
      "╒═════════════╤═══════════════════════════════════════════════════════╕\n",
      "│ instance 1: │ [2, 3, 6, 2, '63.1', '58', 1, '5.76', '5.72', '3.62'] │\n",
      "├─────────────┼───────────────────────────────────────────────────────┤\n",
      "│ class 1:    │ 1                                                     │\n",
      "├─────────────┼───────────────────────────────────────────────────────┤\n",
      "│ actual 1:   │ 3                                                     │\n",
      "╘═════════════╧═══════════════════════════════════════════════════════╛\n",
      "╒═════════════╤═════════════════════════════════════════════════════╕\n",
      "│ instance 2: │ [2, 5, 8, 4, '62', '55', 5, '6.66', '6.63', '4.12'] │\n",
      "├─────────────┼─────────────────────────────────────────────────────┤\n",
      "│ class 2:    │ 3                                                   │\n",
      "├─────────────┼─────────────────────────────────────────────────────┤\n",
      "│ actual 2:   │ 3                                                   │\n",
      "╘═════════════╧═════════════════════════════════════════════════════╛\n",
      "╒═════════════╤═══════════════════════════════════════════════════════╕\n",
      "│ instance 3: │ [1, 4, 3, 8, '62.4', '55', 1, '4.04', '4.08', '2.53'] │\n",
      "├─────────────┼───────────────────────────────────────────────────────┤\n",
      "│ class 3:    │ 1                                                     │\n",
      "├─────────────┼───────────────────────────────────────────────────────┤\n",
      "│ actual 3:   │ 1                                                     │\n",
      "╘═════════════╧═══════════════════════════════════════════════════════╛\n",
      "╒═════════════╤═════════════════════════════════════════════════════╕\n",
      "│ instance 4: │ [2, 4, 2, 3, '60', '60', 2, '6.39', '6.37', '3.83'] │\n",
      "├─────────────┼─────────────────────────────────────────────────────┤\n",
      "│ class 4:    │ 1                                                   │\n",
      "├─────────────┼─────────────────────────────────────────────────────┤\n",
      "│ actual 4:   │ 2                                                   │\n",
      "╘═════════════╧═════════════════════════════════════════════════════╛\n",
      "╒═════════════════════════════════════════════╕\n",
      "│ kNN Cross Validation: Predictive Accuracy   │\n",
      "╞═════════════════════════════════════════════╡\n",
      "│ Stratified 10-Fold Cross Validation         │\n",
      "├─────────────────────────────────────────────┤\n",
      "│ k Nearest Neighbors: accuracy = 0.56        │\n",
      "├─────────────────────────────────────────────┤\n",
      "│ k Nearest Neighbors: error rate = 0.44      │\n",
      "╘═════════════════════════════════════════════╛\n",
      "╒═════════════╤══════════════════════════════════════════════════════════════════════════════╕\n",
      "│             │ kNN Ensemble Diamond Price Classifier Overall Accuracy: 0.3714285714285714   │\n",
      "╞═════════════╪══════════════════════════════════════════════════════════════════════════════╡\n",
      "│ instance 0: │ [4, 1, 1, 3, '65.2', '58', 3, '6.67', '6.58', '4.32']                        │\n",
      "├─────────────┼──────────────────────────────────────────────────────────────────────────────┤\n",
      "│ class 0:    │ 4                                                                            │\n",
      "├─────────────┼──────────────────────────────────────────────────────────────────────────────┤\n",
      "│ actual 0:   │ 4                                                                            │\n",
      "╘═════════════╧══════════════════════════════════════════════════════════════════════════════╛\n",
      "╒═════════════╤════════════════════════════════════════════════════╕\n",
      "│ instance 1: │ [3, 2, 7, 4, '63.4', '56', 3, '6.27', '6.35', '4'] │\n",
      "├─────────────┼────────────────────────────────────────────────────┤\n",
      "│ class 1:    │ 3                                                  │\n",
      "├─────────────┼────────────────────────────────────────────────────┤\n",
      "│ actual 1:   │ 3                                                  │\n",
      "╘═════════════╧════════════════════════════════════════════════════╛\n",
      "╒═════════════╤═══════════════════════════════════════════════════════╕\n",
      "│ instance 2: │ [2, 2, 4, 6, '61.6', '58', 1, '4.73', '4.78', '2.93'] │\n",
      "├─────────────┼───────────────────────────────────────────────────────┤\n",
      "│ class 2:    │ 1                                                     │\n",
      "├─────────────┼───────────────────────────────────────────────────────┤\n",
      "│ actual 2:   │ 2                                                     │\n",
      "╘═════════════╧═══════════════════════════════════════════════════════╛\n",
      "╒═════════════╤═══════════════════════════════════════════════════════╕\n",
      "│ instance 3: │ [1, 4, 7, 8, '61.3', '59', 1, '4.73', '4.79', '2.92'] │\n",
      "├─────────────┼───────────────────────────────────────────────────────┤\n",
      "│ class 3:    │ 1                                                     │\n",
      "├─────────────┼───────────────────────────────────────────────────────┤\n",
      "│ actual 3:   │ 1                                                     │\n",
      "╘═════════════╧═══════════════════════════════════════════════════════╛\n",
      "╒═════════════╤═══════════════════════════════════════════════════════╕\n",
      "│ instance 4: │ [1, 3, 4, 4, '62.5', '60', 1, '4.38', '4.32', '2.72'] │\n",
      "├─────────────┼───────────────────────────────────────────────────────┤\n",
      "│ class 4:    │ 1                                                     │\n",
      "├─────────────┼───────────────────────────────────────────────────────┤\n",
      "│ actual 4:   │ 1                                                     │\n",
      "╘═════════════╧═══════════════════════════════════════════════════════╛\n",
      "max(values):  2.56\n",
      "TDIDT Accuracy: 0.001001001001001001\n",
      "max(values):  2.56\n",
      "max(values):  10.0\n",
      "INFO:tensorflow:Using default config.\n",
      "WARNING:tensorflow:Using temporary folder as model directory: /var/folders/6_/k75qjh1j6jv78p9zwdlp7r780000gn/T/tmp1bpzp0he\n",
      "INFO:tensorflow:Using config: {'_model_dir': '/var/folders/6_/k75qjh1j6jv78p9zwdlp7r780000gn/T/tmp1bpzp0he', '_tf_random_seed': None, '_save_summary_steps': 100, '_save_checkpoints_steps': None, '_save_checkpoints_secs': 600, '_session_config': allow_soft_placement: true\n",
      "graph_options {\n",
      "  rewrite_options {\n",
      "    meta_optimizer_iterations: ONE\n",
      "  }\n",
      "}\n",
      ", '_keep_checkpoint_max': 5, '_keep_checkpoint_every_n_hours': 10000, '_log_step_count_steps': 100, '_train_distribute': None, '_device_fn': None, '_protocol': None, '_eval_distribute': None, '_experimental_distribute': None, '_experimental_max_worker_delay_secs': None, '_session_creation_timeout_secs': 7200, '_service': None, '_cluster_spec': ClusterSpec({}), '_task_type': 'worker', '_task_id': 0, '_global_id_in_cluster': 0, '_master': '', '_evaluation_master': '', '_is_chief': True, '_num_ps_replicas': 0, '_num_worker_replicas': 1}\n",
      "WARNING:tensorflow:From /Users/piercefleming/anaconda3/lib/python3.8/site-packages/tensorflow/python/training/training_util.py:235: Variable.initialized_value (from tensorflow.python.ops.variables) is deprecated and will be removed in a future version.\n",
      "Instructions for updating:\n",
      "Use Variable.read_value. Variables in 2.X are initialized automatically both in eager and graph (inside tf.defun) contexts.\n",
      "INFO:tensorflow:Calling model_fn.\n",
      "WARNING:tensorflow:From /Users/piercefleming/anaconda3/lib/python3.8/site-packages/tensorflow_estimator/python/estimator/canned/linear.py:1471: Layer.add_variable (from tensorflow.python.keras.engine.base_layer_v1) is deprecated and will be removed in a future version.\n",
      "Instructions for updating:\n",
      "Please use `layer.add_weight` method instead.\n",
      "WARNING:tensorflow:From /Users/piercefleming/anaconda3/lib/python3.8/site-packages/tensorflow/python/keras/optimizer_v2/ftrl.py:111: calling Constant.__init__ (from tensorflow.python.ops.init_ops) with dtype is deprecated and will be removed in a future version.\n",
      "Instructions for updating:\n",
      "Call initializer instance with the dtype argument instead of passing it to the constructor\n"
     ]
    },
    {
     "name": "stdout",
     "output_type": "stream",
     "text": [
      "INFO:tensorflow:Done calling model_fn.\n",
      "INFO:tensorflow:Create CheckpointSaverHook.\n",
      "INFO:tensorflow:Graph was finalized.\n",
      "INFO:tensorflow:Running local_init_op.\n",
      "INFO:tensorflow:Done running local_init_op.\n",
      "INFO:tensorflow:Calling checkpoint listeners before saving checkpoint 0...\n",
      "INFO:tensorflow:Saving checkpoints for 0 into /var/folders/6_/k75qjh1j6jv78p9zwdlp7r780000gn/T/tmp1bpzp0he/model.ckpt.\n",
      "INFO:tensorflow:Calling checkpoint listeners after saving checkpoint 0...\n",
      "INFO:tensorflow:loss = 2.3978956, step = 0\n",
      "INFO:tensorflow:global_step/sec: 362.731\n",
      "INFO:tensorflow:loss = 1.271699, step = 100 (0.276 sec)\n",
      "INFO:tensorflow:global_step/sec: 445.428\n",
      "INFO:tensorflow:loss = 1.3101909, step = 200 (0.224 sec)\n",
      "INFO:tensorflow:global_step/sec: 371.286\n",
      "INFO:tensorflow:loss = 1.2226049, step = 300 (0.269 sec)\n",
      "INFO:tensorflow:global_step/sec: 421.288\n",
      "INFO:tensorflow:loss = 0.98641473, step = 400 (0.237 sec)\n",
      "INFO:tensorflow:global_step/sec: 420.555\n",
      "INFO:tensorflow:loss = 0.97136205, step = 500 (0.238 sec)\n",
      "INFO:tensorflow:global_step/sec: 426.385\n",
      "INFO:tensorflow:loss = 0.9549026, step = 600 (0.235 sec)\n",
      "INFO:tensorflow:global_step/sec: 399.61\n",
      "INFO:tensorflow:loss = 1.0909266, step = 700 (0.250 sec)\n",
      "INFO:tensorflow:global_step/sec: 448.095\n",
      "INFO:tensorflow:loss = 0.8772641, step = 800 (0.223 sec)\n",
      "INFO:tensorflow:global_step/sec: 455.568\n",
      "INFO:tensorflow:loss = 0.8956843, step = 900 (0.219 sec)\n",
      "INFO:tensorflow:Calling checkpoint listeners before saving checkpoint 1000...\n",
      "INFO:tensorflow:Saving checkpoints for 1000 into /var/folders/6_/k75qjh1j6jv78p9zwdlp7r780000gn/T/tmp1bpzp0he/model.ckpt.\n",
      "INFO:tensorflow:Calling checkpoint listeners after saving checkpoint 1000...\n",
      "INFO:tensorflow:Loss for final step: 1.1001234.\n",
      "INFO:tensorflow:Calling model_fn.\n",
      "INFO:tensorflow:Done calling model_fn.\n",
      "INFO:tensorflow:Starting evaluation at 2021-01-15T12:37:40Z\n",
      "INFO:tensorflow:Graph was finalized.\n",
      "INFO:tensorflow:Restoring parameters from /var/folders/6_/k75qjh1j6jv78p9zwdlp7r780000gn/T/tmp1bpzp0he/model.ckpt-1000\n",
      "INFO:tensorflow:Running local_init_op.\n",
      "INFO:tensorflow:Done running local_init_op.\n",
      "INFO:tensorflow:Evaluation [100/1000]\n",
      "INFO:tensorflow:Evaluation [200/1000]\n",
      "INFO:tensorflow:Evaluation [300/1000]\n",
      "INFO:tensorflow:Evaluation [400/1000]\n",
      "INFO:tensorflow:Evaluation [500/1000]\n",
      "INFO:tensorflow:Evaluation [600/1000]\n",
      "INFO:tensorflow:Evaluation [700/1000]\n",
      "INFO:tensorflow:Evaluation [800/1000]\n",
      "INFO:tensorflow:Evaluation [900/1000]\n",
      "INFO:tensorflow:Evaluation [1000/1000]\n",
      "INFO:tensorflow:Inference Time : 2.27707s\n",
      "INFO:tensorflow:Finished evaluation at 2021-01-15-12:37:42\n",
      "INFO:tensorflow:Saving dict for global step 1000: accuracy = 0.57572, average_loss = 1.1318866, global_step = 1000, loss = 1.1318868\n",
      "INFO:tensorflow:Saving 'checkpoint_path' summary for global step 1000: /var/folders/6_/k75qjh1j6jv78p9zwdlp7r780000gn/T/tmp1bpzp0he/model.ckpt-1000\n",
      "\n",
      "Accuracy: 0.575720\n",
      "ALL COMPUTATIONS COMPLETE\n"
     ]
    },
    {
     "data": {
      "image/png": "[encoded data removed]",
      "text/plain": [
       "<Figure size 432x288 with 1 Axes>"
      ]
     },
     "metadata": {
      "needs_background": "light"
     },
     "output_type": "display_data"
    }
   ],
   "source": [
    "\n",
    "def main():\n",
    "    execute_all_steps()\n",
    "    print(\"ALL COMPUTATIONS COMPLETE\")\n",
    "\n",
    "if __name__ == \"__main__\":\n",
    "    main()"
   ]
  },
  {
   "cell_type": "code",
   "execution_count": null,
   "metadata": {},
   "outputs": [],
   "source": []
  },
  {
   "cell_type": "code",
   "execution_count": null,
   "metadata": {},
   "outputs": [],
   "source": []
  },
  {
   "cell_type": "code",
   "execution_count": null,
   "metadata": {},
   "outputs": [],
   "source": []
  },
  {
   "cell_type": "code",
   "execution_count": null,
   "metadata": {},
   "outputs": [],
   "source": []
  },
  {
   "cell_type": "code",
   "execution_count": null,
   "metadata": {},
   "outputs": [],
   "source": []
  },
  {
   "cell_type": "code",
   "execution_count": null,
   "metadata": {},
   "outputs": [],
   "source": []
  },
  {
   "cell_type": "code",
   "execution_count": null,
   "metadata": {},
   "outputs": [],
   "source": []
  },
  {
   "cell_type": "code",
   "execution_count": null,
   "metadata": {},
   "outputs": [],
   "source": []
  }
 ],
 "metadata": {
  "kernelspec": {
   "display_name": "Python 3",
   "language": "python",
   "name": "python3"
  },
  "language_info": {
   "codemirror_mode": {
    "name": "ipython",
    "version": 3
   },
   "file_extension": ".py",
   "mimetype": "text/x-python",
   "name": "python",
   "nbconvert_exporter": "python",
   "pygments_lexer": "ipython3",
   "version": "3.8.2"
  }
 },
 "nbformat": 4,
 "nbformat_minor": 2
}
